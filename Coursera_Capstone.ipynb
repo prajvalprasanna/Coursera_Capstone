{
  "nbformat": 4,
  "nbformat_minor": 0,
  "metadata": {
    "colab": {
      "name": "Coursera_Capstone.ipynb",
      "provenance": [],
      "authorship_tag": "ABX9TyNhHHEs/sPcrJ68OK5zqT7/",
      "include_colab_link": true
    },
    "kernelspec": {
      "name": "python3",
      "display_name": "Python 3"
    }
  },
  "cells": [
    {
      "cell_type": "markdown",
      "metadata": {
        "id": "view-in-github",
        "colab_type": "text"
      },
      "source": [
        "<a href=\"https://colab.research.google.com/github/prajvalprasanna/Coursera_Capstone/blob/main/Coursera_Capstone.ipynb\" target=\"_parent\"><img src=\"https://colab.research.google.com/assets/colab-badge.svg\" alt=\"Open In Colab\"/></a>"
      ]
    },
    {
      "cell_type": "markdown",
      "metadata": {
        "id": "757IvOywiuC0"
      },
      "source": [
        "# Capstone Project from IBM "
      ]
    },
    {
      "cell_type": "markdown",
      "metadata": {
        "id": "DDmLq-V8i4h6"
      },
      "source": [
        "#### This notebook will be used to finish the final Capstone Project in this specialization "
      ]
    },
    {
      "cell_type": "code",
      "metadata": {
        "id": "INUskGF7ihxi"
      },
      "source": [
        "import pandas as pd\r\n",
        "import numpy as np "
      ],
      "execution_count": 1,
      "outputs": []
    },
    {
      "cell_type": "code",
      "metadata": {
        "colab": {
          "base_uri": "https://localhost:8080/"
        },
        "id": "mLlU4isLjHAw",
        "outputId": "3550034c-d812-4c92-adea-5fb16104edb2"
      },
      "source": [
        "print(\"Hello Capstone Project Course!\")"
      ],
      "execution_count": 2,
      "outputs": [
        {
          "output_type": "stream",
          "text": [
            "Hello Capstone Project Course!\n"
          ],
          "name": "stdout"
        }
      ]
    },
    {
      "cell_type": "code",
      "metadata": {
        "id": "b8vfi4K7jKtS"
      },
      "source": [
        ""
      ],
      "execution_count": null,
      "outputs": []
    }
  ]
}